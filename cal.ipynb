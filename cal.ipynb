{
 "cells": [
  {
   "cell_type": "code",
   "execution_count": 1,
   "metadata": {},
   "outputs": [],
   "source": [
    "import os\n",
    "import matplotlib.pyplot as plt\n",
    "from PIL import Image\n",
    "from dataloader import kitti_loader\n",
    "import torch\n",
    "from tqdm import tqdm\n",
    "import numpy as np\n",
    "from PIL import Image"
   ]
  },
  {
   "cell_type": "code",
   "execution_count": 2,
   "metadata": {},
   "outputs": [],
   "source": [
    "root_dir = '/datasets/KITTI/depth_prediction'\n",
    "train_list='./list/benchmark/train_list.txt'\n",
    "val_list='./list/benchmark/val_list.txt'\n",
    "\n",
    "def readPathFiles(root_dir, list_file):\n",
    "    depthpaths = []\n",
    "\n",
    "    with open(list_file, 'r') as f:\n",
    "        lines = f.readlines()\n",
    "\n",
    "        for line in lines:\n",
    "            depth_path = os.path.join(root_dir, line.split()[1])\n",
    "\n",
    "            depthpaths.append(depth_path)\n",
    "\n",
    "    return depthpaths"
   ]
  },
  {
   "cell_type": "code",
   "execution_count": 3,
   "metadata": {},
   "outputs": [],
   "source": [
    "train_depthpaths = readPathFiles(root_dir, train_list)\n",
    "val_depthpaths = readPathFiles(root_dir, val_list)"
   ]
  },
  {
   "cell_type": "code",
   "execution_count": 4,
   "metadata": {},
   "outputs": [
    {
     "name": "stderr",
     "output_type": "stream",
     "text": [
      "  0%|          | 8/6694 [00:00<02:33, 43.62it/s, MAX=84.38, MIN=5.10]"
     ]
    },
    {
     "name": "stdout",
     "output_type": "stream",
     "text": [
      "iterations per epoch: 6694\n"
     ]
    },
    {
     "name": "stderr",
     "output_type": "stream",
     "text": [
      "100%|██████████| 6694/6694 [02:25<00:00, 46.68it/s, MAX=85.80, MIN=2.05]"
     ]
    }
   ],
   "source": [
    "_len = len(val_depthpaths)\n",
    "print('iterations per epoch: {}'.format(_len))\n",
    "_max = 0\n",
    "_min = 100\n",
    "pbar = tqdm(total=_len)\n",
    "for depth_file in val_depthpaths:\n",
    "    \n",
    "    depth = Image.open(depth_file)\n",
    "    depth = np.asarray(depth) / 256.\n",
    "    valid = (depth > 0.0)\n",
    "#     print(np.max(depth[valid]), np.min(depth[valid]))\n",
    "    \n",
    "    if np.max(depth[valid]) > _max:\n",
    "        _max = np.max(depth[valid])\n",
    "                         \n",
    "    if np.min(depth[valid]) < _min:\n",
    "        _min = np.min(depth[valid])\n",
    "        \n",
    "    pbar.set_postfix(MAX='{:.2f}, MIN={:.2f}'.format(_max, _min)) \n",
    "    pbar.update(1)"
   ]
  },
  {
   "cell_type": "code",
   "execution_count": 19,
   "metadata": {},
   "outputs": [
    {
     "name": "stdout",
     "output_type": "stream",
     "text": [
      "TRAIN MAX: 90.441, MIN: 1.977\n"
     ]
    }
   ],
   "source": [
    "print('TRAIN MAX: {:.3f}, MIN: {:.3f}'.format(_max,_min))"
   ]
  },
  {
   "cell_type": "code",
   "execution_count": 5,
   "metadata": {},
   "outputs": [
    {
     "name": "stdout",
     "output_type": "stream",
     "text": [
      "VAL MAX: 85.797, MIN: 2.047\n"
     ]
    },
    {
     "name": "stderr",
     "output_type": "stream",
     "text": [
      "100%|██████████| 6694/6694 [02:40<00:00, 46.68it/s, MAX=85.80, MIN=2.05]"
     ]
    }
   ],
   "source": [
    "print('VAL MAX: {:.3f}, MIN: {:.3f}'.format(_max,_min))"
   ]
  },
  {
   "cell_type": "code",
   "execution_count": null,
   "metadata": {},
   "outputs": [],
   "source": []
  },
  {
   "cell_type": "code",
   "execution_count": null,
   "metadata": {},
   "outputs": [],
   "source": []
  }
 ],
 "metadata": {
  "kernelspec": {
   "display_name": "Python 3",
   "language": "python",
   "name": "python3"
  },
  "language_info": {
   "codemirror_mode": {
    "name": "ipython",
    "version": 3
   },
   "file_extension": ".py",
   "mimetype": "text/x-python",
   "name": "python",
   "nbconvert_exporter": "python",
   "pygments_lexer": "ipython3",
   "version": "3.6.9"
  }
 },
 "nbformat": 4,
 "nbformat_minor": 4
}
